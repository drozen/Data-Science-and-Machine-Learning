{
 "cells": [
  {
   "cell_type": "markdown",
   "metadata": {},
   "source": [
    "# Credit Card Spending Analysis Project 2017 For Display"
   ]
  },
  {
   "cell_type": "code",
   "execution_count": 2,
   "metadata": {
    "scrolled": true
   },
   "outputs": [
    {
     "data": {
      "text/html": [
       "<script>\n",
       "  function code_toggle() {\n",
       "    if (code_shown){\n",
       "      $('div.input').hide('500');\n",
       "      $('#toggleButton').val('Show Code')\n",
       "    } else {\n",
       "      $('div.input').show('500');\n",
       "      $('#toggleButton').val('Hide Code')\n",
       "    }\n",
       "    code_shown = !code_shown\n",
       "  }\n",
       "\n",
       "  $( document ).ready(function(){\n",
       "    code_shown=false;\n",
       "    $('div.input').hide()\n",
       "  });\n",
       "</script>\n",
       "<form action=\"javascript:code_toggle()\"><input type=\"submit\" id=\"toggleButton\" value=\"Show Code\"></form>"
      ],
      "text/plain": [
       "<IPython.core.display.HTML object>"
      ]
     },
     "execution_count": 2,
     "metadata": {},
     "output_type": "execute_result"
    }
   ],
   "source": [
    "from IPython.display import HTML# Hide code\n",
    "HTML('''<script>\n",
    "  function code_toggle() {\n",
    "    if (code_shown){\n",
    "      $('div.input').hide('500');\n",
    "      $('#toggleButton').val('Show Code')\n",
    "    } else {\n",
    "      $('div.input').show('500');\n",
    "      $('#toggleButton').val('Hide Code')\n",
    "    }\n",
    "    code_shown = !code_shown\n",
    "  }\n",
    "\n",
    "  $( document ).ready(function(){\n",
    "    code_shown=false;\n",
    "    $('div.input').hide()\n",
    "  });\n",
    "</script>\n",
    "<form action=\"javascript:code_toggle()\"><input type=\"submit\" id=\"toggleButton\" value=\"Show Code\"></form>''')"
   ]
  },
  {
   "cell_type": "code",
   "execution_count": null,
   "metadata": {},
   "outputs": [],
   "source": [
    "import numpy as np\n",
    "import pandas as pd"
   ]
  },
  {
   "cell_type": "code",
   "execution_count": null,
   "metadata": {},
   "outputs": [],
   "source": [
    "import matplotlib.pyplot as plt\n",
    "import seaborn as sns\n",
    "sns.set_style('whitegrid')\n",
    "%matplotlib inline"
   ]
  },
  {
   "cell_type": "code",
   "execution_count": null,
   "metadata": {},
   "outputs": [],
   "source": [
    "#import plotly.plotly as py\n",
    "#import plotly.graph_objs as go\n",
    "#import plotly.tools as tls\n",
    "#tls.set_credentials_file(username='drozen', api_key='GTP8SX2KBqr3loYdTVb6')"
   ]
  },
  {
   "cell_type": "code",
   "execution_count": null,
   "metadata": {},
   "outputs": [],
   "source": [
    "df = pd.read_csv('data/CC2017ForDisplay.csv')"
   ]
  },
  {
   "cell_type": "code",
   "execution_count": null,
   "metadata": {},
   "outputs": [],
   "source": [
    "df = df[df['Transaction']=='DEBIT'] \n",
    "df = df[df['Memo'].notnull()] # remove null entries"
   ]
  },
  {
   "cell_type": "code",
   "execution_count": null,
   "metadata": {},
   "outputs": [],
   "source": [
    "# credit card payments\n",
    "dfCr = pd.read_csv('data/CC2017ForDisplay.csv')\n",
    "dfCr = dfCr[dfCr['Transaction']=='CREDIT'] \n",
    "dfCR= dfCr[dfCr['Memo'].notnull()] # remove null entries"
   ]
  },
  {
   "cell_type": "markdown",
   "metadata": {},
   "source": [
    "### Total Amount of Returns"
   ]
  },
  {
   "cell_type": "code",
   "execution_count": null,
   "metadata": {},
   "outputs": [],
   "source": [
    "dfCr[dfCr['Name']!='PREAUTHORIZED PAYMENT'].sum()[4]  # amount of returns"
   ]
  },
  {
   "cell_type": "code",
   "execution_count": null,
   "metadata": {},
   "outputs": [],
   "source": [
    "dfPay = dfCr[dfCr['Name']=='PREAUTHORIZED PAYMENT']"
   ]
  },
  {
   "cell_type": "code",
   "execution_count": null,
   "metadata": {
    "scrolled": true
   },
   "outputs": [],
   "source": [
    "df['Amount'] = df['Amount'].apply(pd.to_numeric, errors='coerce') *-1 #convert to int and convert amounts to positive\n",
    "df['Transaction date'] = pd.to_datetime(df['Transaction date']) # get date info\n",
    "df['Month'] = df['Transaction date'].apply(lambda x : x.month)\n",
    "df['Day'] = df['Transaction date'].apply(lambda x : x.day)\n",
    "df['Day of Week'] = df['Transaction date'].apply(lambda x : x.dayofweek)\n"
   ]
  },
  {
   "cell_type": "code",
   "execution_count": null,
   "metadata": {},
   "outputs": [],
   "source": [
    "dmap = {0:'Mon',1:'Tue',2:'Wed',3:'Thu',4:'Fri',5:'Sat',6:'Sun'}\n",
    "DayOfWeek = list(map(lambda var: dmap[var],df['Day of Week']))\n",
    "df['Day of Week'] = DayOfWeek"
   ]
  },
  {
   "cell_type": "code",
   "execution_count": null,
   "metadata": {},
   "outputs": [],
   "source": [
    "### Transaction types"
   ]
  },
  {
   "cell_type": "code",
   "execution_count": null,
   "metadata": {},
   "outputs": [],
   "source": [
    "def returnCategory(x):\n",
    "    return x.split(' ~ Category: ')[1]\n",
    "\n",
    "def returnName(x):\n",
    "    return x.split(' ')[0]"
   ]
  },
  {
   "cell_type": "code",
   "execution_count": null,
   "metadata": {},
   "outputs": [],
   "source": [
    "# create category column\n",
    "df['Category']=df['Memo'].apply(returnCategory)\n",
    "\n",
    "# create single name column\n",
    "df['Single Name']=df['Name'].apply(returnName)"
   ]
  },
  {
   "cell_type": "markdown",
   "metadata": {},
   "source": [
    "## Transaction Counts"
   ]
  },
  {
   "cell_type": "code",
   "execution_count": null,
   "metadata": {},
   "outputs": [],
   "source": [
    "#df['Name'].value_counts().head(10)"
   ]
  },
  {
   "cell_type": "markdown",
   "metadata": {},
   "source": [
    "## Find total spending category (eg. gas) purchase amounts for the year"
   ]
  },
  {
   "cell_type": "code",
   "execution_count": null,
   "metadata": {},
   "outputs": [],
   "source": [
    "df['Memo'].apply(returnCategory).value_counts()"
   ]
  },
  {
   "cell_type": "code",
   "execution_count": null,
   "metadata": {
    "scrolled": true
   },
   "outputs": [],
   "source": [
    "dfCat = df.groupby(['Category','Day of Week']).sum()\n",
    "dfCatUnstacked = dfCat.unstack()['Amount']"
   ]
  },
  {
   "cell_type": "code",
   "execution_count": null,
   "metadata": {},
   "outputs": [],
   "source": [
    "dfCatOnly = df.groupby(['Category']).sum()"
   ]
  },
  {
   "cell_type": "code",
   "execution_count": null,
   "metadata": {},
   "outputs": [],
   "source": [
    "sns.set(font_scale=1.5)\n",
    "fig, ax = plt.subplots()\n",
    "fig.set_size_inches(18,6)\n",
    "sns.barplot(ax=ax, x='Category', y = 'Amount', data = dfCatOnly.reset_index()\n",
    "    ).set_title('Spending ($) per Transaction Category')\n",
    "ax.set(ylabel='Amount Spent ($)')\n",
    "#plt.tight_layout()"
   ]
  },
  {
   "cell_type": "code",
   "execution_count": null,
   "metadata": {},
   "outputs": [],
   "source": [
    "sns.set(font_scale=1.5)\n",
    "\n",
    "plt.figure(figsize=(12,6))\n",
    "sns.heatmap(dfCatUnstacked).set_title('Heatmap Displaying $ Spent per Category per Day of Week')"
   ]
  },
  {
   "cell_type": "code",
   "execution_count": null,
   "metadata": {},
   "outputs": [],
   "source": [
    "#sns.clustermap(dfCatUnstacked)"
   ]
  },
  {
   "cell_type": "code",
   "execution_count": null,
   "metadata": {},
   "outputs": [],
   "source": [
    "sns.set(font_scale=1.5)\n",
    "fig, ax = plt.subplots()\n",
    "fig.set_size_inches(18,6)\n",
    "sns.barplot(ax=ax, x='Day of Week', y = 'Amount', data = dfCat.reset_index(), hue = 'Category', estimator=sum\n",
    "    ).set_title('Spending ($) per Transaction Category per Day of Week')\n",
    "ax.set(ylabel='Amount Spent ($)')\n",
    "#plt.tight_layout()"
   ]
  },
  {
   "cell_type": "code",
   "execution_count": null,
   "metadata": {},
   "outputs": [],
   "source": [
    "sns.set(font_scale=1.5)\n",
    "fig, ax = plt.subplots()\n",
    "fig.set_size_inches(18,6)\n",
    "sns.barplot(x='Category', y = 'Amount', data = dfCat.reset_index(), hue = 'Day of Week', estimator=sum, ax=ax).set_title('Spending ($) per Day of Week per Transaction Category')\n",
    "ax.set(ylabel='Amount Spent ($)')"
   ]
  },
  {
   "cell_type": "code",
   "execution_count": null,
   "metadata": {},
   "outputs": [],
   "source": [
    "categoryList = df['Memo'].apply(returnCategory).unique()"
   ]
  },
  {
   "cell_type": "code",
   "execution_count": null,
   "metadata": {},
   "outputs": [],
   "source": [
    "nameAmtDict = {}\n",
    "def nameAmt(name, df=df):\n",
    "    dfCat = df[df['Name'].apply(returnName)==name]\n",
    "    dfCat = dfCat.apply(pd.to_numeric, errors='coerce') #convert to int\n",
    "    returnVal = round(dfCat['Amount'].sum()*1,2)\n",
    "    #print(\"%.2f\" % returnVal)\n",
    "    return round(returnVal, 2)"
   ]
  },
  {
   "cell_type": "code",
   "execution_count": null,
   "metadata": {},
   "outputs": [],
   "source": [
    "def updateDict(name):\n",
    "    nameAmtDict[name] = nameAmt(name)"
   ]
  },
  {
   "cell_type": "code",
   "execution_count": null,
   "metadata": {},
   "outputs": [],
   "source": [
    "#df['Name'].apply(returnName).value_counts().head(8)                                   "
   ]
  },
  {
   "cell_type": "code",
   "execution_count": null,
   "metadata": {},
   "outputs": [],
   "source": [
    "# nameList = [\"ABE'S\", \"PERSONAL\", \"NOFRILLS\", \"ESSO\", \"COSTCO\", \"WAL-MART\", \"WINNERS\", \"CARTER'S\", \"SAVOURS\", \"DR\", \"URTH\", \"HERMES\"]\n",
    "# nameAmtDict = {}\n",
    "# for name in nameList:\n",
    "#     updateDict(name)\n",
    "# nameAmtDict"
   ]
  },
  {
   "cell_type": "code",
   "execution_count": null,
   "metadata": {},
   "outputs": [],
   "source": [
    "# D = nameAmtDict\n",
    "\n",
    "# fig, ax = plt.subplots(figsize=(15, 8))\n",
    "\n",
    "# ax.bar(range(len(D)), D.values(), align='center')\n",
    "# plt.xticks(range(len(D)), list(D.keys()))\n",
    "# plt.title(\"Spending per Store\")\n",
    "# plt.xlabel(\"Store\")\n",
    "# plt.ylabel(\"Dollars $\")\n",
    "# plt.figure(figsize=(100,100))\n",
    "\n",
    "# plt.show()"
   ]
  },
  {
   "cell_type": "code",
   "execution_count": null,
   "metadata": {},
   "outputs": [],
   "source": [
    "# labels=list(D.keys())\n",
    "# values=list(D.values())\n",
    "# trace=go.Pie(labels=labels,values=values)\n",
    "# #py.iplot([trace])"
   ]
  },
  {
   "cell_type": "code",
   "execution_count": null,
   "metadata": {},
   "outputs": [],
   "source": [
    "categoryAmtDict = {}\n",
    "def categoryAmt(category, df=df):\n",
    "    dfCat = df[df['Memo'].apply(returnCategory)==category]\n",
    "    dfCat = dfCat.apply(pd.to_numeric, errors='coerce') #convert to int\n",
    "    returnVal = round(dfCat['Amount'].sum()*1,2)\n",
    "    print(\"%.2f\" % returnVal)\n",
    "    return round(returnVal, 2)"
   ]
  },
  {
   "cell_type": "code",
   "execution_count": null,
   "metadata": {},
   "outputs": [],
   "source": [
    "def updateDict(category):\n",
    "    categoryAmtDict[category] = categoryAmt(category)"
   ]
  },
  {
   "cell_type": "markdown",
   "metadata": {},
   "source": [
    "## Investigate sums by names"
   ]
  },
  {
   "cell_type": "markdown",
   "metadata": {},
   "source": [
    "## Report sums only for at stores purchases more than 10 times"
   ]
  },
  {
   "cell_type": "code",
   "execution_count": null,
   "metadata": {},
   "outputs": [],
   "source": [
    "threshold = 10\n",
    "\n",
    "dfsum = df.groupby('Single Name').sum()[df.groupby('Single Name').count()['Name']>threshold]\n",
    "#dfmean.reset_index().head(5) #turn index into a column"
   ]
  },
  {
   "cell_type": "markdown",
   "metadata": {},
   "source": [
    "## Total Purchase Amount Per Store"
   ]
  },
  {
   "cell_type": "code",
   "execution_count": null,
   "metadata": {
    "scrolled": false
   },
   "outputs": [],
   "source": [
    "a4_dims = (30, 10)\n",
    "sns.set(font_scale=2.3)\n",
    "\n",
    "fig, ax = plt.subplots(figsize=a4_dims)\n",
    "ax = sns.barplot(x='Single Name', y='Amount',data=dfsum.reset_index(),estimator=sum)\n",
    "ax.set(xlabel='Store Name')"
   ]
  },
  {
   "cell_type": "markdown",
   "metadata": {},
   "source": [
    "## Average Purchase Amount Per Store"
   ]
  },
  {
   "cell_type": "code",
   "execution_count": null,
   "metadata": {},
   "outputs": [],
   "source": [
    "dfmean = df.groupby('Single Name').mean()[df.groupby('Single Name').count()['Name']>threshold]\n",
    "a4_dims = (30, 10)\n",
    "sns.set(font_scale=2.3)\n",
    "\n",
    "fig, ax = plt.subplots(figsize=a4_dims)\n",
    "ax = sns.barplot(x='Single Name', y='Amount',data=dfmean.reset_index(),estimator=sum)\n",
    "ax.set(xlabel='Store Name')"
   ]
  }
 ],
 "metadata": {
  "kernelspec": {
   "display_name": "Python 3",
   "language": "python",
   "name": "python3"
  },
  "language_info": {
   "codemirror_mode": {
    "name": "ipython",
    "version": 3
   },
   "file_extension": ".py",
   "mimetype": "text/x-python",
   "name": "python",
   "nbconvert_exporter": "python",
   "pygments_lexer": "ipython3",
   "version": "3.6.5"
  }
 },
 "nbformat": 4,
 "nbformat_minor": 2
}
